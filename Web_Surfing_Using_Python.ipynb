{
  "nbformat": 4,
  "nbformat_minor": 0,
  "metadata": {
    "colab": {
      "provenance": [],
      "authorship_tag": "ABX9TyMP7l/nKoitxOISfUpE1k/s",
      "include_colab_link": true
    },
    "kernelspec": {
      "name": "python3",
      "display_name": "Python 3"
    },
    "language_info": {
      "name": "python"
    }
  },
  "cells": [
    {
      "cell_type": "markdown",
      "metadata": {
        "id": "view-in-github",
        "colab_type": "text"
      },
      "source": [
        "<a href=\"https://colab.research.google.com/github/ashimashahi15/Python/blob/main/Web_Surfing_Using_Python.ipynb\" target=\"_parent\"><img src=\"https://colab.research.google.com/assets/colab-badge.svg\" alt=\"Open In Colab\"/></a>"
      ]
    },
    {
      "cell_type": "code",
      "source": [
        "import urllib.request\n",
        "#urllib.request is a module in Python's urllib library that send HTTP requests to access data from web resources, like websites or APIs.\n",
        "\n",
        "# Step 1: Define the URL for fetching weather of a city (e.g., Mumbai)\n",
        "city = 'Chandigarh'\n",
        "url = f'http://wttr.in/{city}?format=3&m'\n",
        "\n",
        "# Step 2: Open the URL and fetch the weather information\n",
        "response = urllib.request.urlopen(url)\n",
        "\n",
        "# Step 3: Read and decode the content\n",
        "weather_data = response.read().decode('utf-8')\n",
        "\n",
        "# Step 4: Display the weather information\n",
        "print(weather_data)\n"
      ],
      "metadata": {
        "colab": {
          "base_uri": "https://localhost:8080/"
        },
        "id": "pGNGKAN2Q_64",
        "outputId": "7289a08c-37d6-40cf-c52d-734c7843ab77"
      },
      "execution_count": null,
      "outputs": [
        {
          "output_type": "stream",
          "name": "stdout",
          "text": [
            "Chandigarh: ☀️   +32°C\n",
            "\n"
          ]
        }
      ]
    },
    {
      "cell_type": "code",
      "source": [
        "import urllib.request\n",
        "import json\n",
        "\n",
        "# Step 1: Define the URL of the Bitcoin price API\n",
        "url = 'https://api.coindesk.com/v1/bpi/currentprice.json'\n",
        "\n",
        "# Step 2: Open the URL and fetch the Bitcoin price data\n",
        "response = urllib.request.urlopen(url)\n",
        "\n",
        "# Step 3: Read and decode the JSON content\n",
        "data = response.read().decode('utf-8')\n",
        "\n",
        "# Step 4: Parse the JSON data --- json.loads() function to convert the JSON string into a Python dictionary.\n",
        "bitcoin_data = json.loads(data)\n",
        "\n",
        "# Step 5: Extract and display the Bitcoin price in USD\n",
        "# Accessing Nested Data:The structure of the JSON response contains nested dictionaries.The outer dictionary has a key bpi that contains another dictionary,\n",
        "# which has currency codes (like USD, EUR, etc.) as keys.Inside the USD key, there is another dictionary that holds the Bitcoin price data.\n",
        "\n",
        "bitcoin_price = bitcoin_data['bpi']['USD']['rate']\n",
        "print(f\"Current Bitcoin price in USD: ${bitcoin_price}\")\n"
      ],
      "metadata": {
        "colab": {
          "base_uri": "https://localhost:8080/"
        },
        "id": "Mz3rbG9aRO-2",
        "outputId": "a508892a-1149-46af-85ab-f4a6fa9568ea"
      },
      "execution_count": null,
      "outputs": [
        {
          "output_type": "stream",
          "name": "stdout",
          "text": [
            "Current Bitcoin price in USD: $63,934.666\n"
          ]
        }
      ]
    },
    {
      "cell_type": "code",
      "source": [
        "import urllib.request\n",
        "\n",
        "# Step 1: Define the URL of the file you want to download\n",
        "file_url = 'https://www.gutenberg.org/files/2600/2600-0.txt'  # Example text file URL (The Adventures of Sherlock Holmes)\n",
        "\n",
        "# Step 2: Define the local file path where you want to save the downloaded file\n",
        "local_file_path = 'downloaded_sherlock_holmes.txt'\n",
        "\n",
        "# Step 3: Open the URL and fetch the file data\n",
        "try:\n",
        "    response = urllib.request.urlopen(file_url)\n",
        "\n",
        "    # Step 4: Open a local file in write mode and save the file\n",
        "    with open(local_file_path, 'wb') as file:\n",
        "        file.write(response.read())  # Read the data from the response and write it to the file\n",
        "\n",
        "    # Step 5: Inform the user that the download is complete\n",
        "    print(f\"File downloaded from {file_url} and saved as {local_file_path}\")\n",
        "\n",
        "except urllib.error.HTTPError as e:\n",
        "    print(f\"HTTP Error: {e.code} - {e.reason}\")\n",
        "\n",
        "except urllib.error.URLError as e:\n",
        "    print(f\"URL Error: {e.reason}\")\n"
      ],
      "metadata": {
        "colab": {
          "base_uri": "https://localhost:8080/"
        },
        "id": "4ekWkw1zb_zb",
        "outputId": "833ec0dd-4dde-420c-e330-9e0428d2fbd7"
      },
      "execution_count": null,
      "outputs": [
        {
          "output_type": "stream",
          "name": "stdout",
          "text": [
            "File downloaded from https://www.gutenberg.org/files/2600/2600-0.txt and saved as downloaded_sherlock_holmes.txt\n"
          ]
        }
      ]
    }
  ]
}