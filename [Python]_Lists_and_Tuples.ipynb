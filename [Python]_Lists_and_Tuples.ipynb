{
  "nbformat": 4,
  "nbformat_minor": 0,
  "metadata": {
    "colab": {
      "provenance": [],
      "authorship_tag": "ABX9TyMNH4OVkLPD3Z0vF1ISVZx6",
      "include_colab_link": true
    },
    "kernelspec": {
      "name": "python3",
      "display_name": "Python 3"
    },
    "language_info": {
      "name": "python"
    }
  },
  "cells": [
    {
      "cell_type": "markdown",
      "metadata": {
        "id": "view-in-github",
        "colab_type": "text"
      },
      "source": [
        "<a href=\"https://colab.research.google.com/github/ashimashahi15/Python/blob/main/%5BPython%5D_Lists_and_Tuples.ipynb\" target=\"_parent\"><img src=\"https://colab.research.google.com/assets/colab-badge.svg\" alt=\"Open In Colab\"/></a>"
      ]
    },
    {
      "cell_type": "markdown",
      "source": [
        "# **Python Lists**\n",
        "\n",
        "Lists are one of the 4 data types in Python used to store collections of data.\n",
        "Lists in Python represent ordered sequences of values. They can be defined with comma-separated values between square brackets. For example, here is a list of the first few prime numbers\n"
      ],
      "metadata": {
        "id": "5g0VBDtfHnj7"
      }
    },
    {
      "cell_type": "code",
      "execution_count": null,
      "metadata": {
        "colab": {
          "base_uri": "https://localhost:8080/"
        },
        "id": "udAvnML_HjFV",
        "outputId": "e286ba7b-2410-446e-cc8c-c3598d0766fd"
      },
      "outputs": [
        {
          "output_type": "execute_result",
          "data": {
            "text/plain": [
              "[2, 3, 5, 7]"
            ]
          },
          "metadata": {},
          "execution_count": 1
        }
      ],
      "source": [
        "primes = [2, 3, 5, 7]\n",
        "primes"
      ]
    },
    {
      "cell_type": "code",
      "source": [],
      "metadata": {
        "id": "UC-wa6JWVAcs"
      },
      "execution_count": null,
      "outputs": []
    },
    {
      "cell_type": "markdown",
      "source": [
        "We can put other types of things in lists:"
      ],
      "metadata": {
        "id": "fUd-tGUVH-3_"
      }
    },
    {
      "cell_type": "code",
      "source": [
        "planets = ['Mercury', 'Venus', 'Earth', 'Mars', 'Jupiter', 'Saturn', 'Uranus', 'Neptune']\n",
        "planets"
      ],
      "metadata": {
        "colab": {
          "base_uri": "https://localhost:8080/"
        },
        "id": "4jgw40GUH_ld",
        "outputId": "df866a20-adc2-4fbe-916a-f664bd14375f"
      },
      "execution_count": null,
      "outputs": [
        {
          "output_type": "execute_result",
          "data": {
            "text/plain": [
              "['Mercury', 'Venus', 'Earth', 'Mars', 'Jupiter', 'Saturn', 'Uranus', 'Neptune']"
            ]
          },
          "metadata": {},
          "execution_count": 8
        }
      ]
    },
    {
      "cell_type": "markdown",
      "source": [
        "Including other lists:"
      ],
      "metadata": {
        "id": "r-8sH89hIGgZ"
      }
    },
    {
      "cell_type": "code",
      "source": [
        "hands = [\n",
        "    ['J', 'Q', 'K'],\n",
        "    ['2', '2', '2'],\n",
        "    ['6', 'A', 'K'], # (Comma after the last element is optional)\n",
        "]\n",
        "hands"
      ],
      "metadata": {
        "colab": {
          "base_uri": "https://localhost:8080/"
        },
        "id": "1h3iAFu0IKQr",
        "outputId": "6f65f4fd-03fe-4a0b-96c9-adee98761f76"
      },
      "execution_count": null,
      "outputs": [
        {
          "output_type": "execute_result",
          "data": {
            "text/plain": [
              "[['J', 'Q', 'K'], ['2', '2', '2'], ['6', 'A', 'K']]"
            ]
          },
          "metadata": {},
          "execution_count": 3
        }
      ]
    },
    {
      "cell_type": "markdown",
      "source": [
        "A list can contain a mix of different types:"
      ],
      "metadata": {
        "id": "ENX2yoMBIa_M"
      }
    },
    {
      "cell_type": "code",
      "source": [
        "my_favourite_things = [32, 'raindrops on roses', help]"
      ],
      "metadata": {
        "id": "wNNkHI8EIbhz"
      },
      "execution_count": null,
      "outputs": []
    },
    {
      "cell_type": "code",
      "source": [
        "print(my_favourite_things)"
      ],
      "metadata": {
        "colab": {
          "base_uri": "https://localhost:8080/"
        },
        "id": "KHu_epVPIQv8",
        "outputId": "7d3e0e49-3ba9-49f4-84ea-776748f69e82"
      },
      "execution_count": null,
      "outputs": [
        {
          "output_type": "stream",
          "name": "stdout",
          "text": [
            "[32, 'raindrops on roses', Type help() for interactive help, or help(object) for help about object.]\n"
          ]
        }
      ]
    },
    {
      "cell_type": "markdown",
      "source": [
        "# **Indexing**\n",
        "\n",
        "We can access individual list elements using Python's square bracket indexing syntax."
      ],
      "metadata": {
        "id": "mywTPnS9Ip9y"
      }
    },
    {
      "cell_type": "code",
      "source": [
        "planets[0]"
      ],
      "metadata": {
        "colab": {
          "base_uri": "https://localhost:8080/",
          "height": 36
        },
        "id": "59Tyas5IIqfa",
        "outputId": "014ec4af-74af-4a93-8e65-0c05948d71fa"
      },
      "execution_count": null,
      "outputs": [
        {
          "output_type": "execute_result",
          "data": {
            "text/plain": [
              "'Mercury'"
            ],
            "application/vnd.google.colaboratory.intrinsic+json": {
              "type": "string"
            }
          },
          "metadata": {},
          "execution_count": 5
        }
      ]
    },
    {
      "cell_type": "code",
      "source": [
        "planets[1]"
      ],
      "metadata": {
        "colab": {
          "base_uri": "https://localhost:8080/",
          "height": 36
        },
        "id": "xqykBLVuIyzy",
        "outputId": "dfd073f6-4c0f-403d-feca-36f94cf5b909"
      },
      "execution_count": null,
      "outputs": [
        {
          "output_type": "execute_result",
          "data": {
            "text/plain": [
              "'Venus'"
            ],
            "application/vnd.google.colaboratory.intrinsic+json": {
              "type": "string"
            }
          },
          "metadata": {},
          "execution_count": 6
        }
      ]
    },
    {
      "cell_type": "code",
      "source": [
        "planets[-1]"
      ],
      "metadata": {
        "colab": {
          "base_uri": "https://localhost:8080/",
          "height": 36
        },
        "id": "omMngFnYIzkO",
        "outputId": "a324beb5-fe45-4b4c-fde9-0d80ad4668a1"
      },
      "execution_count": null,
      "outputs": [
        {
          "output_type": "execute_result",
          "data": {
            "text/plain": [
              "'Neptune'"
            ],
            "application/vnd.google.colaboratory.intrinsic+json": {
              "type": "string"
            }
          },
          "metadata": {},
          "execution_count": 7
        }
      ]
    },
    {
      "cell_type": "code",
      "source": [
        "planets[-2]"
      ],
      "metadata": {
        "colab": {
          "base_uri": "https://localhost:8080/",
          "height": 36
        },
        "id": "OjxnaDtRI2Cz",
        "outputId": "2475cc25-f0b1-49c7-e796-5049abaa762d"
      },
      "execution_count": null,
      "outputs": [
        {
          "output_type": "execute_result",
          "data": {
            "text/plain": [
              "'Uranus'"
            ],
            "application/vnd.google.colaboratory.intrinsic+json": {
              "type": "string"
            }
          },
          "metadata": {},
          "execution_count": 12
        }
      ]
    },
    {
      "cell_type": "code",
      "source": [
        "planets[0:3]"
      ],
      "metadata": {
        "colab": {
          "base_uri": "https://localhost:8080/"
        },
        "id": "zo1EORpbI37x",
        "outputId": "9b0b6951-5ee5-4048-e45d-7989ba011d50"
      },
      "execution_count": null,
      "outputs": [
        {
          "output_type": "execute_result",
          "data": {
            "text/plain": [
              "['Mercury', 'Venus', 'Earth']"
            ]
          },
          "metadata": {},
          "execution_count": 9
        }
      ]
    },
    {
      "cell_type": "code",
      "source": [
        "planets[:3]"
      ],
      "metadata": {
        "colab": {
          "base_uri": "https://localhost:8080/"
        },
        "id": "NYWlBBx9I6SY",
        "outputId": "d700c2b4-4d8f-416d-85d5-d48582c2a8d1"
      },
      "execution_count": null,
      "outputs": [
        {
          "output_type": "execute_result",
          "data": {
            "text/plain": [
              "['Mercury', 'Venus', 'Earth']"
            ]
          },
          "metadata": {},
          "execution_count": 10
        }
      ]
    },
    {
      "cell_type": "code",
      "source": [
        "planets[3:]"
      ],
      "metadata": {
        "colab": {
          "base_uri": "https://localhost:8080/"
        },
        "id": "91UEu81aI9LB",
        "outputId": "bf453197-42bd-466e-ed5c-7498168a7f5c"
      },
      "execution_count": null,
      "outputs": [
        {
          "output_type": "execute_result",
          "data": {
            "text/plain": [
              "['Mars', 'Jupiter', 'Saturn', 'Uranus', 'Neptune']"
            ]
          },
          "metadata": {},
          "execution_count": 11
        }
      ]
    },
    {
      "cell_type": "code",
      "source": [
        "\n",
        "# All the planets except the first and last\n",
        "planets[1:-1]"
      ],
      "metadata": {
        "colab": {
          "base_uri": "https://localhost:8080/"
        },
        "id": "hjVz1y0YI_9X",
        "outputId": "71ba1ab1-f234-4849-93b7-07320d1848cc"
      },
      "execution_count": null,
      "outputs": [
        {
          "output_type": "execute_result",
          "data": {
            "text/plain": [
              "['Venus', 'Earth', 'Mars', 'Jupiter', 'Saturn', 'Uranus']"
            ]
          },
          "metadata": {},
          "execution_count": 16
        }
      ]
    },
    {
      "cell_type": "markdown",
      "source": [
        "# **Mutating lists**\n",
        "\n",
        "Lists are mutable, meaning they can be modified \"in place\".\n",
        "\n",
        "One way to modify a list is to assign to an index or slice expression.\n",
        "\n",
        "For example, let's say we want to rename Mars:"
      ],
      "metadata": {
        "id": "uZUNCyFkJImm"
      }
    },
    {
      "cell_type": "code",
      "source": [
        "planets[3] = 'Malacandra'\n",
        "planets"
      ],
      "metadata": {
        "colab": {
          "base_uri": "https://localhost:8080/"
        },
        "id": "8vj_3TtcJLq6",
        "outputId": "aafbe082-302d-4cf9-8f07-4d6112949d45"
      },
      "execution_count": null,
      "outputs": [
        {
          "output_type": "execute_result",
          "data": {
            "text/plain": [
              "['Mercury',\n",
              " 'Venus',\n",
              " 'Earth',\n",
              " 'Malacandra',\n",
              " 'Jupiter',\n",
              " 'Saturn',\n",
              " 'Uranus',\n",
              " 'Neptune']"
            ]
          },
          "metadata": {},
          "execution_count": 12
        }
      ]
    },
    {
      "cell_type": "markdown",
      "source": [
        "# **List functions**\n",
        "\n",
        "Python has several useful builtin functions for working with lists.\n",
        "\n",
        "len gives the length of a list:"
      ],
      "metadata": {
        "id": "AddZ3JHpJY4h"
      }
    },
    {
      "cell_type": "code",
      "source": [
        "# How many planets are there?\n",
        "len(planets)"
      ],
      "metadata": {
        "colab": {
          "base_uri": "https://localhost:8080/"
        },
        "id": "nabV0xPTJe05",
        "outputId": "048c86d6-822f-4326-e1e2-d66a93b65cca"
      },
      "execution_count": null,
      "outputs": [
        {
          "output_type": "execute_result",
          "data": {
            "text/plain": [
              "8"
            ]
          },
          "metadata": {},
          "execution_count": 18
        }
      ]
    },
    {
      "cell_type": "markdown",
      "source": [
        "sorted returns a sorted version of a list:"
      ],
      "metadata": {
        "id": "TFG1pIvdJk87"
      }
    },
    {
      "cell_type": "code",
      "source": [
        "# The planets sorted in alphabetical order\n",
        "sorted(planets)"
      ],
      "metadata": {
        "colab": {
          "base_uri": "https://localhost:8080/"
        },
        "id": "5MK_XOD0JXqr",
        "outputId": "e5e2dcb0-818e-4b9f-c37a-e65936df4665"
      },
      "execution_count": null,
      "outputs": [
        {
          "output_type": "execute_result",
          "data": {
            "text/plain": [
              "['Earth',\n",
              " 'Jupiter',\n",
              " 'Malacandra',\n",
              " 'Mercury',\n",
              " 'Neptune',\n",
              " 'Saturn',\n",
              " 'Uranus',\n",
              " 'Venus']"
            ]
          },
          "metadata": {},
          "execution_count": 13
        }
      ]
    },
    {
      "cell_type": "code",
      "source": [
        "primes = [2, 3, 5, 7]\n",
        "sum(primes)"
      ],
      "metadata": {
        "colab": {
          "base_uri": "https://localhost:8080/"
        },
        "id": "v6zg-EVGJsFM",
        "outputId": "9261054f-6ebf-40da-bb80-c0fa9ccf6c05"
      },
      "execution_count": null,
      "outputs": [
        {
          "output_type": "execute_result",
          "data": {
            "text/plain": [
              "17"
            ]
          },
          "metadata": {},
          "execution_count": 14
        }
      ]
    },
    {
      "cell_type": "code",
      "source": [
        "max(primes)"
      ],
      "metadata": {
        "colab": {
          "base_uri": "https://localhost:8080/"
        },
        "id": "buSQDOe-JumK",
        "outputId": "9c88bd04-30ba-454d-8bae-df0e58ea310a"
      },
      "execution_count": null,
      "outputs": [
        {
          "output_type": "execute_result",
          "data": {
            "text/plain": [
              "7"
            ]
          },
          "metadata": {},
          "execution_count": 15
        }
      ]
    },
    {
      "cell_type": "markdown",
      "source": [
        "# **List methods**"
      ],
      "metadata": {
        "id": "FnFB65r5KTwm"
      }
    },
    {
      "cell_type": "code",
      "source": [
        "# Pluto is a planet darn it!\n",
        "planets.append('Pluto')"
      ],
      "metadata": {
        "id": "ih8JxhRxKSo1"
      },
      "execution_count": null,
      "outputs": []
    },
    {
      "cell_type": "code",
      "source": [
        "help(planets.append)"
      ],
      "metadata": {
        "colab": {
          "base_uri": "https://localhost:8080/"
        },
        "id": "JUdNcmRuLUDy",
        "outputId": "0e31d60d-e767-4cc0-8f16-56bc543243c0"
      },
      "execution_count": null,
      "outputs": [
        {
          "output_type": "stream",
          "name": "stdout",
          "text": [
            "Help on built-in function append:\n",
            "\n",
            "append(object, /) method of builtins.list instance\n",
            "    Append object to the end of the list.\n",
            "\n"
          ]
        }
      ]
    },
    {
      "cell_type": "code",
      "source": [
        "planets"
      ],
      "metadata": {
        "colab": {
          "base_uri": "https://localhost:8080/"
        },
        "id": "nLVJ6SU_LYRq",
        "outputId": "6fa22b63-f1e0-4fce-e736-041e719d5119"
      },
      "execution_count": null,
      "outputs": [
        {
          "output_type": "execute_result",
          "data": {
            "text/plain": [
              "['Mercury',\n",
              " 'Venus',\n",
              " 'Earth',\n",
              " 'Malacandra',\n",
              " 'Jupiter',\n",
              " 'Saturn',\n",
              " 'Uranus',\n",
              " 'Neptune',\n",
              " 'Pluto']"
            ]
          },
          "metadata": {},
          "execution_count": 17
        }
      ]
    },
    {
      "cell_type": "markdown",
      "source": [
        "list.pop removes and returns the last element of a list:"
      ],
      "metadata": {
        "id": "LCtF_-KqLbgO"
      }
    },
    {
      "cell_type": "code",
      "source": [
        "planets.pop()"
      ],
      "metadata": {
        "colab": {
          "base_uri": "https://localhost:8080/",
          "height": 36
        },
        "id": "B0uSI8SELYx9",
        "outputId": "93e93374-0d44-4522-d2cb-19074b9e1a5c"
      },
      "execution_count": null,
      "outputs": [
        {
          "output_type": "execute_result",
          "data": {
            "text/plain": [
              "'Pluto'"
            ],
            "application/vnd.google.colaboratory.intrinsic+json": {
              "type": "string"
            }
          },
          "metadata": {},
          "execution_count": 18
        }
      ]
    },
    {
      "cell_type": "code",
      "source": [
        "planets"
      ],
      "metadata": {
        "colab": {
          "base_uri": "https://localhost:8080/"
        },
        "id": "YzpbgBcWLgIM",
        "outputId": "e4b9268b-766d-4d9d-efe1-0ade2161517e"
      },
      "execution_count": null,
      "outputs": [
        {
          "output_type": "execute_result",
          "data": {
            "text/plain": [
              "['Mercury',\n",
              " 'Venus',\n",
              " 'Earth',\n",
              " 'Malacandra',\n",
              " 'Jupiter',\n",
              " 'Saturn',\n",
              " 'Uranus',\n",
              " 'Neptune']"
            ]
          },
          "metadata": {},
          "execution_count": 19
        }
      ]
    },
    {
      "cell_type": "markdown",
      "source": [
        "insert adds an element to a list at a given position:"
      ],
      "metadata": {
        "id": "C0YMGkeBL16b"
      }
    },
    {
      "cell_type": "code",
      "source": [
        "furniture = ['table', 'chair', 'rack', 'shelf']\n",
        "furniture.insert(1, 'bed')\n",
        "furniture"
      ],
      "metadata": {
        "colab": {
          "base_uri": "https://localhost:8080/"
        },
        "id": "mdTxwGJ9L2uc",
        "outputId": "f1602f47-db62-439d-c988-1b6672a8d287"
      },
      "execution_count": null,
      "outputs": [
        {
          "output_type": "execute_result",
          "data": {
            "text/plain": [
              "['table', 'bed', 'chair', 'rack', 'shelf']"
            ]
          },
          "metadata": {},
          "execution_count": 20
        }
      ]
    },
    {
      "cell_type": "markdown",
      "source": [
        "del()\n",
        "del removes an item using the index:"
      ],
      "metadata": {
        "id": "l35MhOFYMA80"
      }
    },
    {
      "cell_type": "code",
      "source": [
        "furniture = ['table', 'chair', 'rack', 'shelf']\n",
        "del furniture[2]\n",
        "furniture\n",
        "\n"
      ],
      "metadata": {
        "colab": {
          "base_uri": "https://localhost:8080/"
        },
        "id": "7YOupufiMG3K",
        "outputId": "6fec3355-cfc2-4b88-b93d-290e756ccb30"
      },
      "execution_count": null,
      "outputs": [
        {
          "output_type": "execute_result",
          "data": {
            "text/plain": [
              "['table', 'chair', 'shelf']"
            ]
          },
          "metadata": {},
          "execution_count": 21
        }
      ]
    },
    {
      "cell_type": "markdown",
      "source": [
        "del()\n",
        "del removes an item using the index:"
      ],
      "metadata": {
        "id": "5xQNitJ_NtjQ"
      }
    },
    {
      "cell_type": "code",
      "source": [
        "del furniture[2]\n",
        "furniture\n"
      ],
      "metadata": {
        "colab": {
          "base_uri": "https://localhost:8080/"
        },
        "id": "4tUPvQIkMMtT",
        "outputId": "637c31fb-10a3-4b14-ac38-8e23f7bf65f3"
      },
      "execution_count": null,
      "outputs": [
        {
          "output_type": "execute_result",
          "data": {
            "text/plain": [
              "['table', 'chair']"
            ]
          },
          "metadata": {},
          "execution_count": 22
        }
      ]
    },
    {
      "cell_type": "markdown",
      "source": [
        "remove()\n",
        "remove removes an item with using actual value of it:"
      ],
      "metadata": {
        "id": "Q4aJ390cNpoi"
      }
    },
    {
      "cell_type": "code",
      "source": [
        "furniture = ['table', 'chair', 'rack', 'shelf']\n",
        "furniture.remove('chair')\n",
        "furniture"
      ],
      "metadata": {
        "colab": {
          "base_uri": "https://localhost:8080/"
        },
        "id": "7X0QLZmpNrJn",
        "outputId": "35d70b00-3086-41c8-c4ca-f1ba0531e6ec"
      },
      "execution_count": null,
      "outputs": [
        {
          "output_type": "execute_result",
          "data": {
            "text/plain": [
              "['table', 'rack', 'shelf']"
            ]
          },
          "metadata": {},
          "execution_count": 30
        }
      ]
    },
    {
      "cell_type": "markdown",
      "source": [
        "# **Tuples**\n",
        "\n",
        "Tuples are almost exactly the same as lists. They differ in just two ways.\n",
        "\n",
        "1: The syntax for creating them uses (optional) parentheses rather than square brackets"
      ],
      "metadata": {
        "id": "hbeFNBusOCM0"
      }
    },
    {
      "cell_type": "code",
      "source": [
        "t = (1, 2, 3)\n",
        "t"
      ],
      "metadata": {
        "colab": {
          "base_uri": "https://localhost:8080/"
        },
        "id": "KvvjcrfqOTWu",
        "outputId": "3dc04079-9bc8-4109-8b46-ea0dc049b10a"
      },
      "execution_count": null,
      "outputs": [
        {
          "output_type": "execute_result",
          "data": {
            "text/plain": [
              "(1, 2, 3)"
            ]
          },
          "metadata": {},
          "execution_count": 33
        }
      ]
    },
    {
      "cell_type": "markdown",
      "source": [
        "2: They cannot be modified (they are immutable)."
      ],
      "metadata": {
        "id": "QfGPYawCOcop"
      }
    },
    {
      "cell_type": "code",
      "source": [
        "t[0] = 100"
      ],
      "metadata": {
        "colab": {
          "base_uri": "https://localhost:8080/",
          "height": 146
        },
        "id": "HBxBN2DDOZAJ",
        "outputId": "7b3c803b-2edf-4454-c215-3b0d102185a1"
      },
      "execution_count": null,
      "outputs": [
        {
          "output_type": "error",
          "ename": "TypeError",
          "evalue": "'tuple' object does not support item assignment",
          "traceback": [
            "\u001b[0;31m---------------------------------------------------------------------------\u001b[0m",
            "\u001b[0;31mTypeError\u001b[0m                                 Traceback (most recent call last)",
            "\u001b[0;32m<ipython-input-34-e6cf7836e708>\u001b[0m in \u001b[0;36m<cell line: 1>\u001b[0;34m()\u001b[0m\n\u001b[0;32m----> 1\u001b[0;31m \u001b[0mt\u001b[0m\u001b[0;34m[\u001b[0m\u001b[0;36m0\u001b[0m\u001b[0;34m]\u001b[0m \u001b[0;34m=\u001b[0m \u001b[0;36m100\u001b[0m\u001b[0;34m\u001b[0m\u001b[0;34m\u001b[0m\u001b[0m\n\u001b[0m",
            "\u001b[0;31mTypeError\u001b[0m: 'tuple' object does not support item assignment"
          ]
        }
      ]
    },
    {
      "cell_type": "markdown",
      "source": [
        "Tuples are often used for functions that have multiple return values.\n",
        "\n",
        "For example, the as_integer_ratio() method of float objects returns a numerator and a denominator in the form of a tuple:"
      ],
      "metadata": {
        "id": "TccTqojHOooZ"
      }
    },
    {
      "cell_type": "code",
      "source": [
        "x = 0.125\n",
        "x.as_integer_ratio()"
      ],
      "metadata": {
        "colab": {
          "base_uri": "https://localhost:8080/"
        },
        "id": "A6UbDxlZOe-M",
        "outputId": "cf94128a-8cf0-47ee-c1e4-cc45b8f19eac"
      },
      "execution_count": null,
      "outputs": [
        {
          "output_type": "execute_result",
          "data": {
            "text/plain": [
              "(1, 8)"
            ]
          },
          "metadata": {},
          "execution_count": 35
        }
      ]
    },
    {
      "cell_type": "code",
      "source": [
        "furniture = ('table', 'chair', 'rack', 'shelf')\n",
        "\n",
        "furniture[0]\n",
        "\n"
      ],
      "metadata": {
        "colab": {
          "base_uri": "https://localhost:8080/",
          "height": 36
        },
        "id": "7mLjPl2mO7wV",
        "outputId": "c915e179-8292-48f6-b04f-918a826d1bdb"
      },
      "execution_count": null,
      "outputs": [
        {
          "output_type": "execute_result",
          "data": {
            "text/plain": [
              "'table'"
            ],
            "application/vnd.google.colaboratory.intrinsic+json": {
              "type": "string"
            }
          },
          "metadata": {},
          "execution_count": 36
        }
      ]
    },
    {
      "cell_type": "code",
      "source": [
        "\n",
        "furniture[1:3]\n"
      ],
      "metadata": {
        "id": "M6fgjEnRPBYN",
        "outputId": "3567cf00-ac8a-4705-92a7-2746f6bf6df4",
        "colab": {
          "base_uri": "https://localhost:8080/"
        }
      },
      "execution_count": null,
      "outputs": [
        {
          "output_type": "execute_result",
          "data": {
            "text/plain": [
              "('chair', 'rack')"
            ]
          },
          "metadata": {},
          "execution_count": 37
        }
      ]
    },
    {
      "cell_type": "code",
      "source": [
        "len(furniture)\n"
      ],
      "metadata": {
        "id": "RgT7hSKdPC1l",
        "outputId": "0f4db6f3-5537-4fd6-a2df-4b422a695526",
        "colab": {
          "base_uri": "https://localhost:8080/"
        }
      },
      "execution_count": null,
      "outputs": [
        {
          "output_type": "execute_result",
          "data": {
            "text/plain": [
              "4"
            ]
          },
          "metadata": {},
          "execution_count": 38
        }
      ]
    }
  ]
}